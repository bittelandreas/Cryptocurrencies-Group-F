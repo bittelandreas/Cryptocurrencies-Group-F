{
 "cells": [
  {
   "cell_type": "code",
   "execution_count": null,
   "metadata": {},
   "outputs": [],
   "source": [
    "import eikon as ek\n",
    "import pandas as pd\n",
    "import numpy as np\n",
    "import time\n",
    "import datetime\n",
    "import matplotlib.pyplot as plt\n",
    "import os\n",
    "import sqlite3\n",
    "from sqlite3 import Error\n",
    "from scipy import stats\n",
    "import scipy as sp\n",
    "import statsmodels.api as sm\n",
    "import pylab\n",
    "import statistics\n",
    "from statsmodels.tsa.stattools import adfuller\n",
    "from openpyxl import load_workbook\n",
    "from openpyxl import Workbook\n",
    "from datetime import date\n",
    "from OLS import OLS\n",
    "\n",
    "ek.set_app_key('ed89d084197d408686e3cfa56e3356daad46c055')\n",
    "\n",
    "print('Done')\n",
    "\n",
    "ticker = ['BTC=','LTC=','ETH=', 'BCH=', 'XRP=','EUR=','CHF=','GBP=','JPY=','CNY=','CAD=', 'AUD=','MXN=','CHFEUR=R', 'GBPEUR=R', 'JPYEUR=R','CNYEUR=R','CADEUR=R','AUDEUR=R','MXNEUR=R'] #wäre gut, wenn man sie nicht manuell eingeben muss, sondern aus einer Liste ziehen.\n",
    "print('Retrieving Data for',ticker)\n",
    "\n",
    "df1 = ek.get_timeseries(ticker, fields = 'CLOSE',interval = 'daily', calendar = 'tradingdays', start_date = '2019-01-01', end_date = '2019-04-11')\n",
    "df2 = ek.get_timeseries(ticker, fields = 'CLOSE',interval = 'daily', calendar = 'tradingdays', start_date = '2019-04-12', end_date = '2019-09-08')\n",
    "df3 = ek.get_timeseries(ticker, fields = 'CLOSE',interval = 'daily', calendar = 'tradingdays', start_date = '2019-09-09', end_date = '2020-02-05')\n",
    "df4 = ek.get_timeseries(ticker, fields = 'CLOSE',interval = 'daily', calendar = 'tradingdays', start_date = '2020-02-06', end_date = '2020-07-04')\n",
    "df5 = ek.get_timeseries(ticker, fields = 'CLOSE',interval = 'daily', calendar = 'tradingdays', start_date = '2020-07-05', end_date = '2020-12-01')\n",
    "df6 = ek.get_timeseries(ticker, fields = 'CLOSE',interval = 'daily', calendar = 'tradingdays', start_date = '2020-12-02' , end_date = '2021-04-30')\n",
    "\n",
    "df = pd.concat([df1,df2,df3,df4,df5,df6], axis = 0)\n",
    "\n",
    "df.columns = df.columns.str.replace('=', '')\n",
    "\n",
    "#Save data to an excel sheet\n",
    "df.to_excel('AQM_Data.xlsx')\n",
    "print('Retrieving Data successful.')"
   ]
  }
 ],
 "metadata": {
  "kernelspec": {
   "display_name": "Python 3",
   "language": "python",
   "name": "python3"
  },
  "language_info": {
   "codemirror_mode": {
    "name": "ipython",
    "version": 3
   },
   "file_extension": ".py",
   "mimetype": "text/x-python",
   "name": "python",
   "nbconvert_exporter": "python",
   "pygments_lexer": "ipython3",
   "version": "3.8.3"
  }
 },
 "nbformat": 4,
 "nbformat_minor": 4
}
